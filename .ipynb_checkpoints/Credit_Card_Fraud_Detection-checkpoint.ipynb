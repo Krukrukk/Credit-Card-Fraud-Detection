{
 "cells": [
  {
   "cell_type": "markdown",
   "metadata": {},
   "source": [
    "# Credit Card Fraud Detection\n",
    "## Wykrywanie oszustw związanych z kartami kredytowymi\n"
   ]
  },
  {
   "cell_type": "markdown",
   "metadata": {},
   "source": [
    "Analizie zostanie poddany zbiór danych zawierający transakcje dokonane kartami kredytowymi we wrześniu 2013r. przez europejczyków w ciągu 2 dni.\n",
    "\n",
    "Celem zadania jest:\n",
    "\n",
    "     1) Dokonaj eksploracyjnej analizy danych oraz opisz wnioski i obserwacje;\n",
    "     2) Stwórz model predykcyjny, który w skuteczny sposób będzie wskazywał podejrzane transakcje;\n",
    "     3) Dokonać analizy wyników \n",
    "     \n",
    " Dane pobrane ze strony: https://www.kaggle.com/mlg-ulb/creditcardfraud"
   ]
  }
 ],
 "metadata": {
  "kernelspec": {
   "display_name": "Python 3",
   "language": "python",
   "name": "python3"
  },
  "language_info": {
   "codemirror_mode": {
    "name": "ipython",
    "version": 3
   },
   "file_extension": ".py",
   "mimetype": "text/x-python",
   "name": "python",
   "nbconvert_exporter": "python",
   "pygments_lexer": "ipython3",
   "version": "3.7.3"
  }
 },
 "nbformat": 4,
 "nbformat_minor": 2
}
